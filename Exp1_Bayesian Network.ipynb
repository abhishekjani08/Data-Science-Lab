{
 "cells": [
  {
   "cell_type": "code",
   "execution_count": 61,
   "id": "849fc06e-f87d-44ab-b32f-e8931678cbe3",
   "metadata": {},
   "outputs": [],
   "source": [
    "# **Bayesian Networks Python**\n",
    "# In this demo, we’ll be using Bayesian Networks to solve the famous Monty Hall Problem. For those of you who don’t know what the Monty Hall problem is\n",
    "# The Monty Hall problem named after the host of the TV series, ‘Let’s Make A Deal’, is a paradoxical probability puzzle that has been confusing people \n",
    "#for over a decade.\n",
    "# So this is how it works. The game involves three doors, given that behind one of these doors is a car and the remaining two have goats behind them. \n",
    "# So you start by picking a random door, say #2. On the other hand, the host knows where the car is hidden and he opens another door, say #1 \n",
    "# (behind which there is a goat). Here’s the catch, you’re now given a choice, the host will ask you if you want to pick door #3 instead of your first \n",
    "# choice i.e. #2."
   ]
  },
  {
   "cell_type": "code",
   "execution_count": 62,
   "id": "42cd58bb-4ab7-4021-9699-13dda4bf2a82",
   "metadata": {},
   "outputs": [],
   "source": [
    "# What is the use of pgmpy?\n",
    "# pgmpy is a python framework to work with these types of graph models. Several graph models and inference algorithms are implemented in pgmpy.\n",
    "#Pgmpy also allows users to create their own inference algorithm without getting into the details of the source code of it."
   ]
  },
  {
   "cell_type": "code",
   "execution_count": 30,
   "id": "384970a0-2f9e-4a19-a4a4-b19bd9abe15e",
   "metadata": {},
   "outputs": [
    {
     "name": "stdout",
     "output_type": "stream",
     "text": [
      "Requirement already satisfied: pgmpy in c:\\users\\student\\appdata\\local\\programs\\python\\python311\\lib\\site-packages (0.1.23)\n",
      "Requirement already satisfied: networkx in c:\\users\\student\\appdata\\local\\programs\\python\\python311\\lib\\site-packages (from pgmpy) (3.1)\n",
      "Requirement already satisfied: numpy in c:\\users\\student\\appdata\\local\\programs\\python\\python311\\lib\\site-packages (from pgmpy) (1.24.4)\n",
      "Requirement already satisfied: scipy in c:\\users\\student\\appdata\\local\\programs\\python\\python311\\lib\\site-packages (from pgmpy) (1.11.1)\n",
      "Requirement already satisfied: scikit-learn in c:\\users\\student\\appdata\\local\\programs\\python\\python311\\lib\\site-packages (from pgmpy) (1.3.0)\n",
      "Requirement already satisfied: pandas in c:\\users\\student\\appdata\\local\\programs\\python\\python311\\lib\\site-packages (from pgmpy) (2.0.3)\n",
      "Requirement already satisfied: pyparsing in c:\\users\\student\\appdata\\local\\programs\\python\\python311\\lib\\site-packages (from pgmpy) (3.0.9)\n",
      "Requirement already satisfied: torch in c:\\users\\student\\appdata\\local\\programs\\python\\python311\\lib\\site-packages (from pgmpy) (2.0.1)\n",
      "Requirement already satisfied: statsmodels in c:\\users\\student\\appdata\\local\\programs\\python\\python311\\lib\\site-packages (from pgmpy) (0.14.0)\n",
      "Requirement already satisfied: tqdm in c:\\users\\student\\appdata\\local\\programs\\python\\python311\\lib\\site-packages (from pgmpy) (4.65.0)\n",
      "Requirement already satisfied: joblib in c:\\users\\student\\appdata\\local\\programs\\python\\python311\\lib\\site-packages (from pgmpy) (1.3.1)\n",
      "Requirement already satisfied: opt-einsum in c:\\users\\student\\appdata\\local\\programs\\python\\python311\\lib\\site-packages (from pgmpy) (3.3.0)\n",
      "Requirement already satisfied: python-dateutil>=2.8.2 in c:\\users\\student\\appdata\\local\\programs\\python\\python311\\lib\\site-packages (from pandas->pgmpy) (2.8.2)\n",
      "Requirement already satisfied: pytz>=2020.1 in c:\\users\\student\\appdata\\local\\programs\\python\\python311\\lib\\site-packages (from pandas->pgmpy) (2023.3)\n",
      "Requirement already satisfied: tzdata>=2022.1 in c:\\users\\student\\appdata\\local\\programs\\python\\python311\\lib\\site-packages (from pandas->pgmpy) (2023.3)\n",
      "Requirement already satisfied: threadpoolctl>=2.0.0 in c:\\users\\student\\appdata\\local\\programs\\python\\python311\\lib\\site-packages (from scikit-learn->pgmpy) (3.2.0)\n",
      "Requirement already satisfied: patsy>=0.5.2 in c:\\users\\student\\appdata\\local\\programs\\python\\python311\\lib\\site-packages (from statsmodels->pgmpy) (0.5.3)\n",
      "Requirement already satisfied: packaging>=21.3 in c:\\users\\student\\appdata\\local\\programs\\python\\python311\\lib\\site-packages (from statsmodels->pgmpy) (23.1)\n",
      "Requirement already satisfied: filelock in c:\\users\\student\\appdata\\local\\programs\\python\\python311\\lib\\site-packages (from torch->pgmpy) (3.12.2)\n",
      "Requirement already satisfied: typing-extensions in c:\\users\\student\\appdata\\local\\programs\\python\\python311\\lib\\site-packages (from torch->pgmpy) (4.7.1)\n",
      "Requirement already satisfied: sympy in c:\\users\\student\\appdata\\local\\programs\\python\\python311\\lib\\site-packages (from torch->pgmpy) (1.12)\n",
      "Requirement already satisfied: jinja2 in c:\\users\\student\\appdata\\local\\programs\\python\\python311\\lib\\site-packages (from torch->pgmpy) (3.1.2)\n",
      "Requirement already satisfied: colorama in c:\\users\\student\\appdata\\local\\programs\\python\\python311\\lib\\site-packages (from tqdm->pgmpy) (0.4.6)\n",
      "Requirement already satisfied: six in c:\\users\\student\\appdata\\local\\programs\\python\\python311\\lib\\site-packages (from patsy>=0.5.2->statsmodels->pgmpy) (1.16.0)\n",
      "Requirement already satisfied: MarkupSafe>=2.0 in c:\\users\\student\\appdata\\local\\programs\\python\\python311\\lib\\site-packages (from jinja2->torch->pgmpy) (2.1.3)\n",
      "Requirement already satisfied: mpmath>=0.19 in c:\\users\\student\\appdata\\local\\programs\\python\\python311\\lib\\site-packages (from sympy->torch->pgmpy) (1.3.0)\n",
      "Note: you may need to restart the kernel to use updated packages.\n"
     ]
    }
   ],
   "source": [
    "pip install pgmpy"
   ]
  },
  {
   "cell_type": "code",
   "execution_count": 63,
   "id": "65394bd2-86b9-49ec-afc1-753692b33d41",
   "metadata": {},
   "outputs": [],
   "source": [
    "from pgmpy.models import BayesianNetwork\n",
    "from pgmpy.factors.discrete import TabularCPD\n",
    "import networkx as nx\n",
    "import pylab as plt"
   ]
  },
  {
   "cell_type": "code",
   "execution_count": 64,
   "id": "6cdcc25c-f952-402a-a3cb-2cf3ef514fb0",
   "metadata": {},
   "outputs": [],
   "source": [
    "# Defining Bayesian Structure\n",
    "model = BayesianNetwork([('Guest', 'Host'), ('Price', 'Host')])"
   ]
  },
  {
   "cell_type": "code",
   "execution_count": 65,
   "id": "2cb96517-e04c-4376-ba10-acc2d1a7a0ed",
   "metadata": {},
   "outputs": [],
   "source": [
    "import numpy as np\n",
    "import warnings\n",
    "\n",
    "# Suppress DeprecationWarnings\n",
    "warnings.filterwarnings(\"ignore\", category=DeprecationWarning)\n",
    "\n",
    "# Define the CPDs\n",
    "cpd_guest = TabularCPD('Guest', 3, [[0.33], [0.33], [0.33]])\n",
    "cpd_price = TabularCPD('Price', 3, [[0.33], [0.33], [0.33]])\n",
    "cpd_host = TabularCPD('Host', 3, [\n",
    "    [0, 0, 0, 0, 0.5, 1, 0, 1, 0.5],\n",
    "    [0.5, 0, 1, 0, 0, 0, 1, 0, 0.5],\n",
    "    [0.5, 1, 0, 1, 0.5, 0, 0, 0, 0]\n",
    "], evidence=['Guest', 'Price'], evidence_card=[3, 3])\n",
    "\n",
    "# Associating the CPDs with the network structure.\n",
    "model.add_cpds(cpd_guest, cpd_price, cpd_host)\n"
   ]
  },
  {
   "cell_type": "code",
   "execution_count": 66,
   "id": "f6b6c184-aa0c-4374-b817-96d28209df58",
   "metadata": {},
   "outputs": [],
   "source": [
    "# Associating the CPDs with the network structure.\n",
    "model.add_cpds(cpd_guest, cpd_price, cpd_host)"
   ]
  },
  {
   "cell_type": "code",
   "execution_count": 67,
   "id": "7737eee9-8d0b-4044-a3b9-ab962a8e0369",
   "metadata": {},
   "outputs": [
    {
     "data": {
      "text/plain": [
       "True"
      ]
     },
     "execution_count": 67,
     "metadata": {},
     "output_type": "execute_result"
    }
   ],
   "source": [
    "model.check_model()"
   ]
  },
  {
   "cell_type": "code",
   "execution_count": 68,
   "id": "04a3560c-f359-4ffd-bdcb-4f75d34897a3",
   "metadata": {},
   "outputs": [
    {
     "name": "stdout",
     "output_type": "stream",
     "text": [
      "+---------+-------------+\n",
      "| Host    |   phi(Host) |\n",
      "+=========+=============+\n",
      "| Host(0) |      0.5000 |\n",
      "+---------+-------------+\n",
      "| Host(1) |      0.5000 |\n",
      "+---------+-------------+\n",
      "| Host(2) |      0.0000 |\n",
      "+---------+-------------+\n"
     ]
    }
   ],
   "source": [
    "# Infering the posterior probability\n",
    "from pgmpy.inference import VariableElimination\n",
    "\n",
    "infer = VariableElimination(model)\n",
    "posterior_p = infer.query(['Host'], evidence={'Guest': 2, 'Price': 2})\n",
    "print(posterior_p)"
   ]
  },
  {
   "cell_type": "code",
   "execution_count": 69,
   "id": "a5733621-401e-4e3d-99a8-09a1a25d304f",
   "metadata": {},
   "outputs": [
    {
     "name": "stdout",
     "output_type": "stream",
     "text": [
      "+---------+-------------+\n",
      "| Host    |   phi(Host) |\n",
      "+=========+=============+\n",
      "| Host(0) |      1.0000 |\n",
      "+---------+-------------+\n",
      "| Host(1) |      0.0000 |\n",
      "+---------+-------------+\n",
      "| Host(2) |      0.0000 |\n",
      "+---------+-------------+\n"
     ]
    }
   ],
   "source": [
    "# Infering the posterior probability\n",
    "from pgmpy.inference import VariableElimination\n",
    "\n",
    "infer = VariableElimination(model)\n",
    "posterior_p = infer.query(['Host'], evidence={'Guest': 1, 'Price': 2})\n",
    "print(posterior_p)"
   ]
  },
  {
   "cell_type": "code",
   "execution_count": 74,
   "id": "2b0fa36f-4478-4a0a-a826-0a5d941da6be",
   "metadata": {},
   "outputs": [
    {
     "data": {
      "image/png": "[encoded data removed]",
      "text/plain": [
       "<Figure size 640x480 with 1 Axes>"
      ]
     },
     "metadata": {},
     "output_type": "display_data"
    }
   ],
   "source": [
    "import networkx as nx\n",
    "import matplotlib.pyplot as plt\n",
    "from pgmpy.models import BayesianModel\n",
    "\n",
    "# Assuming you have already defined and created the 'model' variable as a BayesianModel.\n",
    "\n",
    "# Convert the Bayesian model to a networkx graph\n",
    "graph = nx.DiGraph(model.edges())\n",
    "\n",
    "# Draw the graph using NetworkX\n",
    "nx.draw(graph, with_labels=True, node_color='lightblue', node_size=2000, font_size=10, font_weight='bold', arrowsize=20)\n",
    "\n",
    "# Show the plot\n",
    "plt.show()\n"
   ]
  },
  {
   "cell_type": "code",
   "execution_count": null,
   "id": "3da5d2ca-a4c0-459c-929a-d328cedb0fe3",
   "metadata": {},
   "outputs": [],
   "source": []
  }
 ],
 "metadata": {
  "kernelspec": {
   "display_name": "Python 3 (ipykernel)",
   "language": "python",
   "name": "python3"
  },
  "language_info": {
   "codemirror_mode": {
    "name": "ipython",
    "version": 3
   },
   "file_extension": ".py",
   "mimetype": "text/x-python",
   "name": "python",
   "nbconvert_exporter": "python",
   "pygments_lexer": "ipython3",
   "version": "3.11.4"
  }
 },
 "nbformat": 4,
 "nbformat_minor": 5
}
