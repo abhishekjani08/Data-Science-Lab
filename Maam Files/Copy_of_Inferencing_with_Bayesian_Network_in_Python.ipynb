{
 "cells": [
  {
   "cell_type": "markdown",
   "metadata": {
    "id": "iJdZVuoxPhO-"
   },
   "source": [
    "# **Inferencing with Bayesian Network in Python**\n",
    "In this demonstration, we’ll use Bayesian Networks to solve the well-known Monty Hall Problem. Let me explain the Monty Hall problem to those of you who are unfamiliar with it:\n",
    "\n",
    "This problem entails a competition in which a contestant must choose one of three doors, one of which conceals a price. The show’s host (Monty) unlocks an empty door and asks the contestant if he wants to swap to the other door after the contestant has chosen one.\n",
    "\n",
    "The decision is whether to keep the current door or replace it with a new one. It is preferable to enter by the other door because the price is more likely to be higher. To come out from this ambiguity let’s model this with a Bayesian network.\n",
    "\n"
   ]
  },
  {
   "cell_type": "markdown",
   "metadata": {
    "id": "i8yWmrwIXwik"
   },
   "source": [
    "# Implementation"
   ]
  },
  {
   "cell_type": "markdown",
   "metadata": {
    "id": "0PxrFkomXtts"
   },
   "source": [
    "For this demonstration, we are using a python-based package pgmpy is a Bayesian Networks implementation written entirely in Python with a focus on modularity and flexibility. Structure Learning, Parameter Estimation, Approximate (Sampling-Based) and Exact inference, and Causal Inference are all available as implementations."
   ]
  },
  {
   "cell_type": "code",
   "execution_count": null,
   "metadata": {
    "colab": {
     "base_uri": "https://localhost:8080/"
    },
    "id": "OhRQX9TANBWK",
    "outputId": "98ca723e-fbb5-4864-dbb0-c33838480be4"
   },
   "outputs": [
    {
     "name": "stdout",
     "output_type": "stream",
     "text": [
      "Looking in indexes: https://pypi.org/simple, https://us-python.pkg.dev/colab-wheels/public/simple/\n",
      "Collecting pgmpy\n",
      "  Downloading pgmpy-0.1.19-py3-none-any.whl (1.9 MB)\n",
      "\u001b[K     |████████████████████████████████| 1.9 MB 4.6 MB/s \n",
      "\u001b[?25hRequirement already satisfied: joblib in /usr/local/lib/python3.7/dist-packages (from pgmpy) (1.1.0)\n",
      "Requirement already satisfied: scipy in /usr/local/lib/python3.7/dist-packages (from pgmpy) (1.7.3)\n",
      "Requirement already satisfied: pyparsing in /usr/local/lib/python3.7/dist-packages (from pgmpy) (3.0.9)\n",
      "Requirement already satisfied: tqdm in /usr/local/lib/python3.7/dist-packages (from pgmpy) (4.64.0)\n",
      "Requirement already satisfied: numpy in /usr/local/lib/python3.7/dist-packages (from pgmpy) (1.21.6)\n",
      "Requirement already satisfied: scikit-learn in /usr/local/lib/python3.7/dist-packages (from pgmpy) (1.0.2)\n",
      "Requirement already satisfied: torch in /usr/local/lib/python3.7/dist-packages (from pgmpy) (1.12.0+cu113)\n",
      "Requirement already satisfied: pandas in /usr/local/lib/python3.7/dist-packages (from pgmpy) (1.3.5)\n",
      "Requirement already satisfied: statsmodels in /usr/local/lib/python3.7/dist-packages (from pgmpy) (0.10.2)\n",
      "Requirement already satisfied: networkx in /usr/local/lib/python3.7/dist-packages (from pgmpy) (2.6.3)\n",
      "Requirement already satisfied: python-dateutil>=2.7.3 in /usr/local/lib/python3.7/dist-packages (from pandas->pgmpy) (2.8.2)\n",
      "Requirement already satisfied: pytz>=2017.3 in /usr/local/lib/python3.7/dist-packages (from pandas->pgmpy) (2022.1)\n",
      "Requirement already satisfied: six>=1.5 in /usr/local/lib/python3.7/dist-packages (from python-dateutil>=2.7.3->pandas->pgmpy) (1.15.0)\n",
      "Requirement already satisfied: threadpoolctl>=2.0.0 in /usr/local/lib/python3.7/dist-packages (from scikit-learn->pgmpy) (3.1.0)\n",
      "Requirement already satisfied: patsy>=0.4.0 in /usr/local/lib/python3.7/dist-packages (from statsmodels->pgmpy) (0.5.2)\n",
      "Requirement already satisfied: typing-extensions in /usr/local/lib/python3.7/dist-packages (from torch->pgmpy) (4.1.1)\n",
      "Installing collected packages: pgmpy\n",
      "Successfully installed pgmpy-0.1.19\n"
     ]
    }
   ],
   "source": [
    "!pip install pgmpy"
   ]
  },
  {
   "cell_type": "markdown",
   "metadata": {
    "id": "cvc6YXFoX7O7"
   },
   "source": [
    "from pgmpy.models import BayesianNetwork\n",
    "from pgmpy.factors.discrete import TabularCPD\n",
    "import networkx as nx"
   ]
  },
  {
   "cell_type": "code",
   "execution_count": null,
   "metadata": {
    "id": "rTybvQmjPaSO"
   },
   "outputs": [],
   "source": [
    "from pgmpy.models import BayesianNetwork\n",
    "from pgmpy.factors.discrete import TabularCPD\n",
    "import networkx as nx\n",
    "import pylab as plt"
   ]
  },
  {
   "cell_type": "markdown",
   "metadata": {
    "id": "_V0OruIjYYbt"
   },
   "source": [
    "The BayesianModel can be initialized by passing a list of edges in the model structure. In this case, there are 4 edges in the model: Guest--> Host, Price-->host"
   ]
  },
  {
   "cell_type": "code",
   "execution_count": null,
   "metadata": {
    "id": "1mtbckcBOkrg"
   },
   "outputs": [],
   "source": [
    "# Defining Bayesian Structure\n",
    "model = BayesianNetwork([('Guest', 'Host'), ('Price', 'Host')])"
   ]
  },
  {
   "cell_type": "markdown",
   "metadata": {
    "id": "gK8LcRzxYkoV"
   },
   "source": [
    "**Step 2: Define the CPDs(Conditional Probability Distribution)**"
   ]
  },
  {
   "cell_type": "markdown",
   "metadata": {
    "id": "v9ey_bDqc4Va"
   },
   "source": [
    "![image.png](data:image/png;base64,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)"
   ]
  },
  {
   "cell_type": "code",
   "execution_count": null,
   "metadata": {
    "id": "AJEL576nOn4-"
   },
   "outputs": [],
   "source": [
    "# Defining the CPDs:\n",
    "cpd_guest = TabularCPD('Guest', 3, [[0.33], [0.33], [0.33]])\n",
    "cpd_price = TabularCPD('Price', 3, [[0.33], [0.33], [0.33]])\n",
    "cpd_host = TabularCPD('Host', 3, [[0, 0, 0, 0, 0.5, 1, 0, 1, 0.5],\n",
    "                            [0.5, 0, 1, 0, 0, 0, 1, 0, 0.5],\n",
    "                            [0.5, 1, 0, 1, 0.5, 0, 0, 0, 0]],\n",
    "                  evidence=['Guest', 'Price'], evidence_card=[3, 3])"
   ]
  },
  {
   "cell_type": "markdown",
   "metadata": {
    "id": "A-dKINSqY408"
   },
   "source": [
    "**Step 3: Add the CPDs to the model.**\n",
    "\n",
    "After defining the model parameters, we can now add them to the model using add_cpds method. The check_model method can also be used to verify if the CPDs are correctly defined for the model structure."
   ]
  },
  {
   "cell_type": "code",
   "execution_count": null,
   "metadata": {
    "id": "q9UT_0bVOrZP"
   },
   "outputs": [],
   "source": [
    "# Associating the CPDs with the network structure.\n",
    "model.add_cpds(cpd_guest, cpd_price, cpd_host)"
   ]
  },
  {
   "cell_type": "markdown",
   "metadata": {
    "id": "sGK_gws7Pr41"
   },
   "source": [
    "Now we will check the model structure and associated conditional probability distribution by the argument get_cpds() will return True if every this is fine else through an error msg."
   ]
  },
  {
   "cell_type": "code",
   "execution_count": null,
   "metadata": {
    "colab": {
     "base_uri": "https://localhost:8080/"
    },
    "id": "PZnRbISiOuI2",
    "outputId": "173e3731-f21c-438e-86f1-c63d4ad7860e"
   },
   "outputs": [
    {
     "data": {
      "text/plain": [
       "True"
      ]
     },
     "execution_count": 7,
     "metadata": {},
     "output_type": "execute_result"
    }
   ],
   "source": [
    "model.check_model()"
   ]
  },
  {
   "cell_type": "markdown",
   "metadata": {
    "id": "ilruzCVPPvBt"
   },
   "source": [
    "Now let’s infer the network, if we want to check at the next step which door will the host open now. For that, we need access to the posterior probability from the network and while accessing we need to pass the evidence to the function. Evidence is needed to be given when we are evaluating posterior probability, here in our task evidence is nothing but which door is Guest selected and where is the Price."
   ]
  },
  {
   "cell_type": "code",
   "execution_count": null,
   "metadata": {
    "colab": {
     "base_uri": "https://localhost:8080/",
     "height": 292,
     "referenced_widgets": [
      "02641a35a903484cb255624e520c299c",
      "e933c69b68a94826a49a99d6596c4974",
      "1622a9efca4c42fe92e865381241e600",
      "9985558b0d1743608d2a4c0f62cf057c",
      "be0b4fa9e12f40578b24bf3c5d598406",
      "0a11b3a773144de68630c1d591508979",
      "f9c51d42544340fb8430d3aca7faf171",
      "45bc7b06825543e598ec96e0d16c5be1",
      "c8611645a1d6440cb36a8bae3df97160",
      "8a73ae654bc340b682cc4684c18092cc",
      "7fc1c5bb417e4807adc00f7e83311022",
      "3256bfeab4d640e1829f31147802b232",
      "6fabc9d3b6c4492791faf4b29ef4d178",
      "7f472d3238e14faf838f360be1554ae5",
      "0433ac90cd8140e79aae679c1eed8770",
      "6919df0a757444b387174e2581dbb916",
      "7a315565d37049d69cfa351be6ce85cb",
      "ef379f00b12d46b780ccea2e806ee4dc",
      "aa4b0818445540feb8d00c034dfc58fd",
      "cb63bce8cd924c929d0386ae25df87c2",
      "8bdfe2d1183b457aaa1d7fb473b39508",
      "41fe17169456438b97bf70ad20f865a6"
     ]
    },
    "id": "b46Jahe4Ov4e",
    "outputId": "093309f6-4956-446c-e834-92df429f3429"
   },
   "outputs": [
    {
     "name": "stderr",
     "output_type": "stream",
     "text": [
      "/usr/local/lib/python3.7/dist-packages/statsmodels/tools/_testing.py:19: FutureWarning: pandas.util.testing is deprecated. Use the functions in the public API at pandas.testing instead.\n",
      "  import pandas.util.testing as tm\n"
     ]
    },
    {
     "data": {
      "application/vnd.jupyter.widget-view+json": {
       "model_id": "02641a35a903484cb255624e520c299c",
       "version_major": 2,
       "version_minor": 0
      },
      "text/plain": [
       "0it [00:00, ?it/s]"
      ]
     },
     "metadata": {},
     "output_type": "display_data"
    },
    {
     "data": {
      "application/vnd.jupyter.widget-view+json": {
       "model_id": "3256bfeab4d640e1829f31147802b232",
       "version_major": 2,
       "version_minor": 0
      },
      "text/plain": [
       "0it [00:00, ?it/s]"
      ]
     },
     "metadata": {},
     "output_type": "display_data"
    },
    {
     "name": "stdout",
     "output_type": "stream",
     "text": [
      "+---------+-------------+\n",
      "| Host    |   phi(Host) |\n",
      "+=========+=============+\n",
      "| Host(0) |      0.5000 |\n",
      "+---------+-------------+\n",
      "| Host(1) |      0.5000 |\n",
      "+---------+-------------+\n",
      "| Host(2) |      0.0000 |\n",
      "+---------+-------------+\n"
     ]
    }
   ],
   "source": [
    "# Infering the posterior probability\n",
    "from pgmpy.inference import VariableElimination\n",
    "\n",
    "infer = VariableElimination(model)\n",
    "posterior_p = infer.query(['Host'], evidence={'Guest': 2, 'Price': 2})\n",
    "print(posterior_p)"
   ]
  },
  {
   "cell_type": "code",
   "execution_count": null,
   "metadata": {
    "colab": {
     "base_uri": "https://localhost:8080/",
     "height": 237,
     "referenced_widgets": [
      "ac53bea684e04310bd8c680176404f0b",
      "4b11b876276f49be8487487e2269b319",
      "82b387a4e35a4dbca2b18bc68534e257",
      "b441020e865f453aab7bd0af26e9e65f",
      "49a5ac8ec817470fb38f45ee1f75e1d8",
      "cfd29a36f5d541afb9d97d4988247132",
      "0f4ad2d07e3d4de485cb2b722435895d",
      "df0a498b592244fcb1e2248b4129443d",
      "b409d949b0c141f69083094935565f56",
      "dc7b4f2792de45849aa6489caf802bbb",
      "278a9f4d370a48d3a7b9b55ec97a4cd5",
      "66e0148935f8422992a47b288feaab70",
      "3f2688234ab54236b012e100fae42f70",
      "1e16677cfc60408784bd6f143e14c673",
      "ec442794f10f46ceb48cb4edd5c9d87b",
      "bfccbd1c7ccb4979a2a212c7c4846554",
      "07ea161ff2bd44e1a7be0a2817ac02a0",
      "c6ff9cada73c40da9ad3b4cea4f7dc4d",
      "14b10ca30eca4e698194b3ad38052482",
      "26e71ee2c63f4c8e9ab616a778662738",
      "1977dccc31764c4281ede1bb3683bc3f",
      "e1a950bceb9c45ce9e97a624a9039e56"
     ]
    },
    "id": "dxrbDSFpdEOj",
    "outputId": "32ebc656-d66c-449c-ebde-722c5b51dd66"
   },
   "outputs": [
    {
     "data": {
      "application/vnd.jupyter.widget-view+json": {
       "model_id": "ac53bea684e04310bd8c680176404f0b",
       "version_major": 2,
       "version_minor": 0
      },
      "text/plain": [
       "0it [00:00, ?it/s]"
      ]
     },
     "metadata": {},
     "output_type": "display_data"
    },
    {
     "data": {
      "application/vnd.jupyter.widget-view+json": {
       "model_id": "66e0148935f8422992a47b288feaab70",
       "version_major": 2,
       "version_minor": 0
      },
      "text/plain": [
       "0it [00:00, ?it/s]"
      ]
     },
     "metadata": {},
     "output_type": "display_data"
    },
    {
     "name": "stdout",
     "output_type": "stream",
     "text": [
      "+---------+-------------+\n",
      "| Host    |   phi(Host) |\n",
      "+=========+=============+\n",
      "| Host(0) |      1.0000 |\n",
      "+---------+-------------+\n",
      "| Host(1) |      0.0000 |\n",
      "+---------+-------------+\n",
      "| Host(2) |      0.0000 |\n",
      "+---------+-------------+\n"
     ]
    }
   ],
   "source": [
    "# Infering the posterior probability\n",
    "from pgmpy.inference import VariableElimination\n",
    "\n",
    "infer = VariableElimination(model)\n",
    "posterior_p = infer.query(['Host'], evidence={'Guest': 1, 'Price': 2})\n",
    "print(posterior_p)"
   ]
  },
  {
   "cell_type": "markdown",
   "metadata": {
    "id": "OH1eBldaP0Os"
   },
   "source": [
    "The probability distribution of the Host is clearly satisfying the theme of the contest. In the reality also, in this situation host definitely not going to open the second door he will open either of the first two and that’s what the above simulation tells.\n",
    "\n",
    "Now, let’s plot our above model. This can be done with the help of Network and Pylab. NetworkX is a Python-based software package for constructing, altering, and researching the structure, dynamics, and function of complex networks. PyLab is a procedural interface to the object-oriented charting toolkit Matplotlib, and it is used to examine large complex networks represented as graphs with nodes and edges."
   ]
  },
  {
   "cell_type": "code",
   "execution_count": null,
   "metadata": {
    "colab": {
     "base_uri": "https://localhost:8080/",
     "height": 319
    },
    "id": "yoBm1odBOyrm",
    "outputId": "a9d69d1e-4cf4-4650-9f18-b013dbd85f91"
   },
   "outputs": [
    {
     "data": {
      "image/png": "[encoded data removed]",
      "text/plain": [
       "<Figure size 432x288 with 1 Axes>"
      ]
     },
     "metadata": {},
     "output_type": "display_data"
    }
   ],
   "source": [
    "nx.draw(model, with_labels=True)\n",
    "#plt.savefig('model.png')\n",
    "#plt.close()"
   ]
  },
  {
   "cell_type": "markdown",
   "metadata": {
    "id": "OqOrYE06PH_S"
   },
   "source": [
    "[Reference1](https://analyticsindiamag.com/a-guide-to-inferencing-with-bayesian-network-in-python/)\n",
    "\n",
    "\n",
    "[Reference2](https://pgmpy.org/examples/Monty%20Hall%20Problem.html)"
   ]
  },
  {
   "cell_type": "markdown",
   "metadata": {
    "id": "WaFJffyqa9vl"
   },
   "source": []
  },
  {
   "cell_type": "code",
   "execution_count": null,
   "metadata": {
    "id": "b9Wna-cYO7pG"
   },
   "outputs": [],
   "source": []
  }
 ],
 "metadata": {
  "colab": {
   "provenance": []
  },
  "kernelspec": {
   "display_name": "Python 3 (ipykernel)",
   "language": "python",
   "name": "python3"
  },
  "language_info": {
   "codemirror_mode": {
    "name": "ipython",
    "version": 3
   },
   "file_extension": ".py",
   "mimetype": "text/x-python",
   "name": "python",
   "nbconvert_exporter": "python",
   "pygments_lexer": "ipython3",
   "version": "3.11.4"
  },
  "widgets": {
   "application/vnd.jupyter.widget-state+json": {
    "02641a35a903484cb255624e520c299c": {
     "model_module": "@jupyter-widgets/controls",
     "model_module_version": "1.5.0",
     "model_name": "HBoxModel",
     "state": {
      "_dom_classes": [],
      "_model_module": "@jupyter-widgets/controls",
      "_model_module_version": "1.5.0",
      "_model_name": "HBoxModel",
      "_view_count": null,
      "_view_module": "@jupyter-widgets/controls",
      "_view_module_version": "1.5.0",
      "_view_name": "HBoxView",
      "box_style": "",
      "children": [
       "IPY_MODEL_e933c69b68a94826a49a99d6596c4974",
       "IPY_MODEL_1622a9efca4c42fe92e865381241e600",
       "IPY_MODEL_9985558b0d1743608d2a4c0f62cf057c"
      ],
      "layout": "IPY_MODEL_be0b4fa9e12f40578b24bf3c5d598406"
     }
    },
    "0433ac90cd8140e79aae679c1eed8770": {
     "model_module": "@jupyter-widgets/controls",
     "model_module_version": "1.5.0",
     "model_name": "HTMLModel",
     "state": {
      "_dom_classes": [],
      "_model_module": "@jupyter-widgets/controls",
      "_model_module_version": "1.5.0",
      "_model_name": "HTMLModel",
      "_view_count": null,
      "_view_module": "@jupyter-widgets/controls",
      "_view_module_version": "1.5.0",
      "_view_name": "HTMLView",
      "description": "",
      "description_tooltip": null,
      "layout": "IPY_MODEL_8bdfe2d1183b457aaa1d7fb473b39508",
      "placeholder": "​",
      "style": "IPY_MODEL_41fe17169456438b97bf70ad20f865a6",
      "value": " 0/0 [00:00&lt;?, ?it/s]"
     }
    },
    "07ea161ff2bd44e1a7be0a2817ac02a0": {
     "model_module": "@jupyter-widgets/base",
     "model_module_version": "1.2.0",
     "model_name": "LayoutModel",
     "state": {
      "_model_module": "@jupyter-widgets/base",
      "_model_module_version": "1.2.0",
      "_model_name": "LayoutModel",
      "_view_count": null,
      "_view_module": "@jupyter-widgets/base",
      "_view_module_version": "1.2.0",
      "_view_name": "LayoutView",
      "align_content": null,
      "align_items": null,
      "align_self": null,
      "border": null,
      "bottom": null,
      "display": null,
      "flex": null,
      "flex_flow": null,
      "grid_area": null,
      "grid_auto_columns": null,
      "grid_auto_flow": null,
      "grid_auto_rows": null,
      "grid_column": null,
      "grid_gap": null,
      "grid_row": null,
      "grid_template_areas": null,
      "grid_template_columns": null,
      "grid_template_rows": null,
      "height": null,
      "justify_content": null,
      "justify_items": null,
      "left": null,
      "margin": null,
      "max_height": null,
      "max_width": null,
      "min_height": null,
      "min_width": null,
      "object_fit": null,
      "object_position": null,
      "order": null,
      "overflow": null,
      "overflow_x": null,
      "overflow_y": null,
      "padding": null,
      "right": null,
      "top": null,
      "visibility": null,
      "width": null
     }
    },
    "0a11b3a773144de68630c1d591508979": {
     "model_module": "@jupyter-widgets/base",
     "model_module_version": "1.2.0",
     "model_name": "LayoutModel",
     "state": {
      "_model_module": "@jupyter-widgets/base",
      "_model_module_version": "1.2.0",
      "_model_name": "LayoutModel",
      "_view_count": null,
      "_view_module": "@jupyter-widgets/base",
      "_view_module_version": "1.2.0",
      "_view_name": "LayoutView",
      "align_content": null,
      "align_items": null,
      "align_self": null,
      "border": null,
      "bottom": null,
      "display": null,
      "flex": null,
      "flex_flow": null,
      "grid_area": null,
      "grid_auto_columns": null,
      "grid_auto_flow": null,
      "grid_auto_rows": null,
      "grid_column": null,
      "grid_gap": null,
      "grid_row": null,
      "grid_template_areas": null,
      "grid_template_columns": null,
      "grid_template_rows": null,
      "height": null,
      "justify_content": null,
      "justify_items": null,
      "left": null,
      "margin": null,
      "max_height": null,
      "max_width": null,
      "min_height": null,
      "min_width": null,
      "object_fit": null,
      "object_position": null,
      "order": null,
      "overflow": null,
      "overflow_x": null,
      "overflow_y": null,
      "padding": null,
      "right": null,
      "top": null,
      "visibility": null,
      "width": null
     }
    },
    "0f4ad2d07e3d4de485cb2b722435895d": {
     "model_module": "@jupyter-widgets/controls",
     "model_module_version": "1.5.0",
     "model_name": "DescriptionStyleModel",
     "state": {
      "_model_module": "@jupyter-widgets/controls",
      "_model_module_version": "1.5.0",
      "_model_name": "DescriptionStyleModel",
      "_view_count": null,
      "_view_module": "@jupyter-widgets/base",
      "_view_module_version": "1.2.0",
      "_view_name": "StyleView",
      "description_width": ""
     }
    },
    "14b10ca30eca4e698194b3ad38052482": {
     "model_module": "@jupyter-widgets/base",
     "model_module_version": "1.2.0",
     "model_name": "LayoutModel",
     "state": {
      "_model_module": "@jupyter-widgets/base",
      "_model_module_version": "1.2.0",
      "_model_name": "LayoutModel",
      "_view_count": null,
      "_view_module": "@jupyter-widgets/base",
      "_view_module_version": "1.2.0",
      "_view_name": "LayoutView",
      "align_content": null,
      "align_items": null,
      "align_self": null,
      "border": null,
      "bottom": null,
      "display": null,
      "flex": null,
      "flex_flow": null,
      "grid_area": null,
      "grid_auto_columns": null,
      "grid_auto_flow": null,
      "grid_auto_rows": null,
      "grid_column": null,
      "grid_gap": null,
      "grid_row": null,
      "grid_template_areas": null,
      "grid_template_columns": null,
      "grid_template_rows": null,
      "height": null,
      "justify_content": null,
      "justify_items": null,
      "left": null,
      "margin": null,
      "max_height": null,
      "max_width": null,
      "min_height": null,
      "min_width": null,
      "object_fit": null,
      "object_position": null,
      "order": null,
      "overflow": null,
      "overflow_x": null,
      "overflow_y": null,
      "padding": null,
      "right": null,
      "top": null,
      "visibility": null,
      "width": "20px"
     }
    },
    "1622a9efca4c42fe92e865381241e600": {
     "model_module": "@jupyter-widgets/controls",
     "model_module_version": "1.5.0",
     "model_name": "FloatProgressModel",
     "state": {
      "_dom_classes": [],
      "_model_module": "@jupyter-widgets/controls",
      "_model_module_version": "1.5.0",
      "_model_name": "FloatProgressModel",
      "_view_count": null,
      "_view_module": "@jupyter-widgets/controls",
      "_view_module_version": "1.5.0",
      "_view_name": "ProgressView",
      "bar_style": "success",
      "description": "",
      "description_tooltip": null,
      "layout": "IPY_MODEL_45bc7b06825543e598ec96e0d16c5be1",
      "max": 1,
      "min": 0,
      "orientation": "horizontal",
      "style": "IPY_MODEL_c8611645a1d6440cb36a8bae3df97160",
      "value": 0
     }
    },
    "1977dccc31764c4281ede1bb3683bc3f": {
     "model_module": "@jupyter-widgets/base",
     "model_module_version": "1.2.0",
     "model_name": "LayoutModel",
     "state": {
      "_model_module": "@jupyter-widgets/base",
      "_model_module_version": "1.2.0",
      "_model_name": "LayoutModel",
      "_view_count": null,
      "_view_module": "@jupyter-widgets/base",
      "_view_module_version": "1.2.0",
      "_view_name": "LayoutView",
      "align_content": null,
      "align_items": null,
      "align_self": null,
      "border": null,
      "bottom": null,
      "display": null,
      "flex": null,
      "flex_flow": null,
      "grid_area": null,
      "grid_auto_columns": null,
      "grid_auto_flow": null,
      "grid_auto_rows": null,
      "grid_column": null,
      "grid_gap": null,
      "grid_row": null,
      "grid_template_areas": null,
      "grid_template_columns": null,
      "grid_template_rows": null,
      "height": null,
      "justify_content": null,
      "justify_items": null,
      "left": null,
      "margin": null,
      "max_height": null,
      "max_width": null,
      "min_height": null,
      "min_width": null,
      "object_fit": null,
      "object_position": null,
      "order": null,
      "overflow": null,
      "overflow_x": null,
      "overflow_y": null,
      "padding": null,
      "right": null,
      "top": null,
      "visibility": null,
      "width": null
     }
    },
    "1e16677cfc60408784bd6f143e14c673": {
     "model_module": "@jupyter-widgets/controls",
     "model_module_version": "1.5.0",
     "model_name": "FloatProgressModel",
     "state": {
      "_dom_classes": [],
      "_model_module": "@jupyter-widgets/controls",
      "_model_module_version": "1.5.0",
      "_model_name": "FloatProgressModel",
      "_view_count": null,
      "_view_module": "@jupyter-widgets/controls",
      "_view_module_version": "1.5.0",
      "_view_name": "ProgressView",
      "bar_style": "success",
      "description": "",
      "description_tooltip": null,
      "layout": "IPY_MODEL_14b10ca30eca4e698194b3ad38052482",
      "max": 1,
      "min": 0,
      "orientation": "horizontal",
      "style": "IPY_MODEL_26e71ee2c63f4c8e9ab616a778662738",
      "value": 0
     }
    },
    "26e71ee2c63f4c8e9ab616a778662738": {
     "model_module": "@jupyter-widgets/controls",
     "model_module_version": "1.5.0",
     "model_name": "ProgressStyleModel",
     "state": {
      "_model_module": "@jupyter-widgets/controls",
      "_model_module_version": "1.5.0",
      "_model_name": "ProgressStyleModel",
      "_view_count": null,
      "_view_module": "@jupyter-widgets/base",
      "_view_module_version": "1.2.0",
      "_view_name": "StyleView",
      "bar_color": null,
      "description_width": ""
     }
    },
    "278a9f4d370a48d3a7b9b55ec97a4cd5": {
     "model_module": "@jupyter-widgets/controls",
     "model_module_version": "1.5.0",
     "model_name": "DescriptionStyleModel",
     "state": {
      "_model_module": "@jupyter-widgets/controls",
      "_model_module_version": "1.5.0",
      "_model_name": "DescriptionStyleModel",
      "_view_count": null,
      "_view_module": "@jupyter-widgets/base",
      "_view_module_version": "1.2.0",
      "_view_name": "StyleView",
      "description_width": ""
     }
    },
    "3256bfeab4d640e1829f31147802b232": {
     "model_module": "@jupyter-widgets/controls",
     "model_module_version": "1.5.0",
     "model_name": "HBoxModel",
     "state": {
      "_dom_classes": [],
      "_model_module": "@jupyter-widgets/controls",
      "_model_module_version": "1.5.0",
      "_model_name": "HBoxModel",
      "_view_count": null,
      "_view_module": "@jupyter-widgets/controls",
      "_view_module_version": "1.5.0",
      "_view_name": "HBoxView",
      "box_style": "",
      "children": [
       "IPY_MODEL_6fabc9d3b6c4492791faf4b29ef4d178",
       "IPY_MODEL_7f472d3238e14faf838f360be1554ae5",
       "IPY_MODEL_0433ac90cd8140e79aae679c1eed8770"
      ],
      "layout": "IPY_MODEL_6919df0a757444b387174e2581dbb916"
     }
    },
    "3f2688234ab54236b012e100fae42f70": {
     "model_module": "@jupyter-widgets/controls",
     "model_module_version": "1.5.0",
     "model_name": "HTMLModel",
     "state": {
      "_dom_classes": [],
      "_model_module": "@jupyter-widgets/controls",
      "_model_module_version": "1.5.0",
      "_model_name": "HTMLModel",
      "_view_count": null,
      "_view_module": "@jupyter-widgets/controls",
      "_view_module_version": "1.5.0",
      "_view_name": "HTMLView",
      "description": "",
      "description_tooltip": null,
      "layout": "IPY_MODEL_07ea161ff2bd44e1a7be0a2817ac02a0",
      "placeholder": "​",
      "style": "IPY_MODEL_c6ff9cada73c40da9ad3b4cea4f7dc4d",
      "value": ""
     }
    },
    "41fe17169456438b97bf70ad20f865a6": {
     "model_module": "@jupyter-widgets/controls",
     "model_module_version": "1.5.0",
     "model_name": "DescriptionStyleModel",
     "state": {
      "_model_module": "@jupyter-widgets/controls",
      "_model_module_version": "1.5.0",
      "_model_name": "DescriptionStyleModel",
      "_view_count": null,
      "_view_module": "@jupyter-widgets/base",
      "_view_module_version": "1.2.0",
      "_view_name": "StyleView",
      "description_width": ""
     }
    },
    "45bc7b06825543e598ec96e0d16c5be1": {
     "model_module": "@jupyter-widgets/base",
     "model_module_version": "1.2.0",
     "model_name": "LayoutModel",
     "state": {
      "_model_module": "@jupyter-widgets/base",
      "_model_module_version": "1.2.0",
      "_model_name": "LayoutModel",
      "_view_count": null,
      "_view_module": "@jupyter-widgets/base",
      "_view_module_version": "1.2.0",
      "_view_name": "LayoutView",
      "align_content": null,
      "align_items": null,
      "align_self": null,
      "border": null,
      "bottom": null,
      "display": null,
      "flex": null,
      "flex_flow": null,
      "grid_area": null,
      "grid_auto_columns": null,
      "grid_auto_flow": null,
      "grid_auto_rows": null,
      "grid_column": null,
      "grid_gap": null,
      "grid_row": null,
      "grid_template_areas": null,
      "grid_template_columns": null,
      "grid_template_rows": null,
      "height": null,
      "justify_content": null,
      "justify_items": null,
      "left": null,
      "margin": null,
      "max_height": null,
      "max_width": null,
      "min_height": null,
      "min_width": null,
      "object_fit": null,
      "object_position": null,
      "order": null,
      "overflow": null,
      "overflow_x": null,
      "overflow_y": null,
      "padding": null,
      "right": null,
      "top": null,
      "visibility": null,
      "width": "20px"
     }
    },
    "49a5ac8ec817470fb38f45ee1f75e1d8": {
     "model_module": "@jupyter-widgets/base",
     "model_module_version": "1.2.0",
     "model_name": "LayoutModel",
     "state": {
      "_model_module": "@jupyter-widgets/base",
      "_model_module_version": "1.2.0",
      "_model_name": "LayoutModel",
      "_view_count": null,
      "_view_module": "@jupyter-widgets/base",
      "_view_module_version": "1.2.0",
      "_view_name": "LayoutView",
      "align_content": null,
      "align_items": null,
      "align_self": null,
      "border": null,
      "bottom": null,
      "display": null,
      "flex": null,
      "flex_flow": null,
      "grid_area": null,
      "grid_auto_columns": null,
      "grid_auto_flow": null,
      "grid_auto_rows": null,
      "grid_column": null,
      "grid_gap": null,
      "grid_row": null,
      "grid_template_areas": null,
      "grid_template_columns": null,
      "grid_template_rows": null,
      "height": null,
      "justify_content": null,
      "justify_items": null,
      "left": null,
      "margin": null,
      "max_height": null,
      "max_width": null,
      "min_height": null,
      "min_width": null,
      "object_fit": null,
      "object_position": null,
      "order": null,
      "overflow": null,
      "overflow_x": null,
      "overflow_y": null,
      "padding": null,
      "right": null,
      "top": null,
      "visibility": null,
      "width": null
     }
    },
    "4b11b876276f49be8487487e2269b319": {
     "model_module": "@jupyter-widgets/controls",
     "model_module_version": "1.5.0",
     "model_name": "HTMLModel",
     "state": {
      "_dom_classes": [],
      "_model_module": "@jupyter-widgets/controls",
      "_model_module_version": "1.5.0",
      "_model_name": "HTMLModel",
      "_view_count": null,
      "_view_module": "@jupyter-widgets/controls",
      "_view_module_version": "1.5.0",
      "_view_name": "HTMLView",
      "description": "",
      "description_tooltip": null,
      "layout": "IPY_MODEL_cfd29a36f5d541afb9d97d4988247132",
      "placeholder": "​",
      "style": "IPY_MODEL_0f4ad2d07e3d4de485cb2b722435895d",
      "value": "Finding Elimination Order: : "
     }
    },
    "66e0148935f8422992a47b288feaab70": {
     "model_module": "@jupyter-widgets/controls",
     "model_module_version": "1.5.0",
     "model_name": "HBoxModel",
     "state": {
      "_dom_classes": [],
      "_model_module": "@jupyter-widgets/controls",
      "_model_module_version": "1.5.0",
      "_model_name": "HBoxModel",
      "_view_count": null,
      "_view_module": "@jupyter-widgets/controls",
      "_view_module_version": "1.5.0",
      "_view_name": "HBoxView",
      "box_style": "",
      "children": [
       "IPY_MODEL_3f2688234ab54236b012e100fae42f70",
       "IPY_MODEL_1e16677cfc60408784bd6f143e14c673",
       "IPY_MODEL_ec442794f10f46ceb48cb4edd5c9d87b"
      ],
      "layout": "IPY_MODEL_bfccbd1c7ccb4979a2a212c7c4846554"
     }
    },
    "6919df0a757444b387174e2581dbb916": {
     "model_module": "@jupyter-widgets/base",
     "model_module_version": "1.2.0",
     "model_name": "LayoutModel",
     "state": {
      "_model_module": "@jupyter-widgets/base",
      "_model_module_version": "1.2.0",
      "_model_name": "LayoutModel",
      "_view_count": null,
      "_view_module": "@jupyter-widgets/base",
      "_view_module_version": "1.2.0",
      "_view_name": "LayoutView",
      "align_content": null,
      "align_items": null,
      "align_self": null,
      "border": null,
      "bottom": null,
      "display": null,
      "flex": null,
      "flex_flow": null,
      "grid_area": null,
      "grid_auto_columns": null,
      "grid_auto_flow": null,
      "grid_auto_rows": null,
      "grid_column": null,
      "grid_gap": null,
      "grid_row": null,
      "grid_template_areas": null,
      "grid_template_columns": null,
      "grid_template_rows": null,
      "height": null,
      "justify_content": null,
      "justify_items": null,
      "left": null,
      "margin": null,
      "max_height": null,
      "max_width": null,
      "min_height": null,
      "min_width": null,
      "object_fit": null,
      "object_position": null,
      "order": null,
      "overflow": null,
      "overflow_x": null,
      "overflow_y": null,
      "padding": null,
      "right": null,
      "top": null,
      "visibility": null,
      "width": null
     }
    },
    "6fabc9d3b6c4492791faf4b29ef4d178": {
     "model_module": "@jupyter-widgets/controls",
     "model_module_version": "1.5.0",
     "model_name": "HTMLModel",
     "state": {
      "_dom_classes": [],
      "_model_module": "@jupyter-widgets/controls",
      "_model_module_version": "1.5.0",
      "_model_name": "HTMLModel",
      "_view_count": null,
      "_view_module": "@jupyter-widgets/controls",
      "_view_module_version": "1.5.0",
      "_view_name": "HTMLView",
      "description": "",
      "description_tooltip": null,
      "layout": "IPY_MODEL_7a315565d37049d69cfa351be6ce85cb",
      "placeholder": "​",
      "style": "IPY_MODEL_ef379f00b12d46b780ccea2e806ee4dc",
      "value": ""
     }
    },
    "7a315565d37049d69cfa351be6ce85cb": {
     "model_module": "@jupyter-widgets/base",
     "model_module_version": "1.2.0",
     "model_name": "LayoutModel",
     "state": {
      "_model_module": "@jupyter-widgets/base",
      "_model_module_version": "1.2.0",
      "_model_name": "LayoutModel",
      "_view_count": null,
      "_view_module": "@jupyter-widgets/base",
      "_view_module_version": "1.2.0",
      "_view_name": "LayoutView",
      "align_content": null,
      "align_items": null,
      "align_self": null,
      "border": null,
      "bottom": null,
      "display": null,
      "flex": null,
      "flex_flow": null,
      "grid_area": null,
      "grid_auto_columns": null,
      "grid_auto_flow": null,
      "grid_auto_rows": null,
      "grid_column": null,
      "grid_gap": null,
      "grid_row": null,
      "grid_template_areas": null,
      "grid_template_columns": null,
      "grid_template_rows": null,
      "height": null,
      "justify_content": null,
      "justify_items": null,
      "left": null,
      "margin": null,
      "max_height": null,
      "max_width": null,
      "min_height": null,
      "min_width": null,
      "object_fit": null,
      "object_position": null,
      "order": null,
      "overflow": null,
      "overflow_x": null,
      "overflow_y": null,
      "padding": null,
      "right": null,
      "top": null,
      "visibility": null,
      "width": null
     }
    },
    "7f472d3238e14faf838f360be1554ae5": {
     "model_module": "@jupyter-widgets/controls",
     "model_module_version": "1.5.0",
     "model_name": "FloatProgressModel",
     "state": {
      "_dom_classes": [],
      "_model_module": "@jupyter-widgets/controls",
      "_model_module_version": "1.5.0",
      "_model_name": "FloatProgressModel",
      "_view_count": null,
      "_view_module": "@jupyter-widgets/controls",
      "_view_module_version": "1.5.0",
      "_view_name": "ProgressView",
      "bar_style": "success",
      "description": "",
      "description_tooltip": null,
      "layout": "IPY_MODEL_aa4b0818445540feb8d00c034dfc58fd",
      "max": 1,
      "min": 0,
      "orientation": "horizontal",
      "style": "IPY_MODEL_cb63bce8cd924c929d0386ae25df87c2",
      "value": 0
     }
    },
    "7fc1c5bb417e4807adc00f7e83311022": {
     "model_module": "@jupyter-widgets/controls",
     "model_module_version": "1.5.0",
     "model_name": "DescriptionStyleModel",
     "state": {
      "_model_module": "@jupyter-widgets/controls",
      "_model_module_version": "1.5.0",
      "_model_name": "DescriptionStyleModel",
      "_view_count": null,
      "_view_module": "@jupyter-widgets/base",
      "_view_module_version": "1.2.0",
      "_view_name": "StyleView",
      "description_width": ""
     }
    },
    "82b387a4e35a4dbca2b18bc68534e257": {
     "model_module": "@jupyter-widgets/controls",
     "model_module_version": "1.5.0",
     "model_name": "FloatProgressModel",
     "state": {
      "_dom_classes": [],
      "_model_module": "@jupyter-widgets/controls",
      "_model_module_version": "1.5.0",
      "_model_name": "FloatProgressModel",
      "_view_count": null,
      "_view_module": "@jupyter-widgets/controls",
      "_view_module_version": "1.5.0",
      "_view_name": "ProgressView",
      "bar_style": "success",
      "description": "",
      "description_tooltip": null,
      "layout": "IPY_MODEL_df0a498b592244fcb1e2248b4129443d",
      "max": 1,
      "min": 0,
      "orientation": "horizontal",
      "style": "IPY_MODEL_b409d949b0c141f69083094935565f56",
      "value": 0
     }
    },
    "8a73ae654bc340b682cc4684c18092cc": {
     "model_module": "@jupyter-widgets/base",
     "model_module_version": "1.2.0",
     "model_name": "LayoutModel",
     "state": {
      "_model_module": "@jupyter-widgets/base",
      "_model_module_version": "1.2.0",
      "_model_name": "LayoutModel",
      "_view_count": null,
      "_view_module": "@jupyter-widgets/base",
      "_view_module_version": "1.2.0",
      "_view_name": "LayoutView",
      "align_content": null,
      "align_items": null,
      "align_self": null,
      "border": null,
      "bottom": null,
      "display": null,
      "flex": null,
      "flex_flow": null,
      "grid_area": null,
      "grid_auto_columns": null,
      "grid_auto_flow": null,
      "grid_auto_rows": null,
      "grid_column": null,
      "grid_gap": null,
      "grid_row": null,
      "grid_template_areas": null,
      "grid_template_columns": null,
      "grid_template_rows": null,
      "height": null,
      "justify_content": null,
      "justify_items": null,
      "left": null,
      "margin": null,
      "max_height": null,
      "max_width": null,
      "min_height": null,
      "min_width": null,
      "object_fit": null,
      "object_position": null,
      "order": null,
      "overflow": null,
      "overflow_x": null,
      "overflow_y": null,
      "padding": null,
      "right": null,
      "top": null,
      "visibility": null,
      "width": null
     }
    },
    "8bdfe2d1183b457aaa1d7fb473b39508": {
     "model_module": "@jupyter-widgets/base",
     "model_module_version": "1.2.0",
     "model_name": "LayoutModel",
     "state": {
      "_model_module": "@jupyter-widgets/base",
      "_model_module_version": "1.2.0",
      "_model_name": "LayoutModel",
      "_view_count": null,
      "_view_module": "@jupyter-widgets/base",
      "_view_module_version": "1.2.0",
      "_view_name": "LayoutView",
      "align_content": null,
      "align_items": null,
      "align_self": null,
      "border": null,
      "bottom": null,
      "display": null,
      "flex": null,
      "flex_flow": null,
      "grid_area": null,
      "grid_auto_columns": null,
      "grid_auto_flow": null,
      "grid_auto_rows": null,
      "grid_column": null,
      "grid_gap": null,
      "grid_row": null,
      "grid_template_areas": null,
      "grid_template_columns": null,
      "grid_template_rows": null,
      "height": null,
      "justify_content": null,
      "justify_items": null,
      "left": null,
      "margin": null,
      "max_height": null,
      "max_width": null,
      "min_height": null,
      "min_width": null,
      "object_fit": null,
      "object_position": null,
      "order": null,
      "overflow": null,
      "overflow_x": null,
      "overflow_y": null,
      "padding": null,
      "right": null,
      "top": null,
      "visibility": null,
      "width": null
     }
    },
    "9985558b0d1743608d2a4c0f62cf057c": {
     "model_module": "@jupyter-widgets/controls",
     "model_module_version": "1.5.0",
     "model_name": "HTMLModel",
     "state": {
      "_dom_classes": [],
      "_model_module": "@jupyter-widgets/controls",
      "_model_module_version": "1.5.0",
      "_model_name": "HTMLModel",
      "_view_count": null,
      "_view_module": "@jupyter-widgets/controls",
      "_view_module_version": "1.5.0",
      "_view_name": "HTMLView",
      "description": "",
      "description_tooltip": null,
      "layout": "IPY_MODEL_8a73ae654bc340b682cc4684c18092cc",
      "placeholder": "​",
      "style": "IPY_MODEL_7fc1c5bb417e4807adc00f7e83311022",
      "value": " 0/0 [00:12&lt;?, ?it/s]"
     }
    },
    "aa4b0818445540feb8d00c034dfc58fd": {
     "model_module": "@jupyter-widgets/base",
     "model_module_version": "1.2.0",
     "model_name": "LayoutModel",
     "state": {
      "_model_module": "@jupyter-widgets/base",
      "_model_module_version": "1.2.0",
      "_model_name": "LayoutModel",
      "_view_count": null,
      "_view_module": "@jupyter-widgets/base",
      "_view_module_version": "1.2.0",
      "_view_name": "LayoutView",
      "align_content": null,
      "align_items": null,
      "align_self": null,
      "border": null,
      "bottom": null,
      "display": null,
      "flex": null,
      "flex_flow": null,
      "grid_area": null,
      "grid_auto_columns": null,
      "grid_auto_flow": null,
      "grid_auto_rows": null,
      "grid_column": null,
      "grid_gap": null,
      "grid_row": null,
      "grid_template_areas": null,
      "grid_template_columns": null,
      "grid_template_rows": null,
      "height": null,
      "justify_content": null,
      "justify_items": null,
      "left": null,
      "margin": null,
      "max_height": null,
      "max_width": null,
      "min_height": null,
      "min_width": null,
      "object_fit": null,
      "object_position": null,
      "order": null,
      "overflow": null,
      "overflow_x": null,
      "overflow_y": null,
      "padding": null,
      "right": null,
      "top": null,
      "visibility": null,
      "width": "20px"
     }
    },
    "ac53bea684e04310bd8c680176404f0b": {
     "model_module": "@jupyter-widgets/controls",
     "model_module_version": "1.5.0",
     "model_name": "HBoxModel",
     "state": {
      "_dom_classes": [],
      "_model_module": "@jupyter-widgets/controls",
      "_model_module_version": "1.5.0",
      "_model_name": "HBoxModel",
      "_view_count": null,
      "_view_module": "@jupyter-widgets/controls",
      "_view_module_version": "1.5.0",
      "_view_name": "HBoxView",
      "box_style": "",
      "children": [
       "IPY_MODEL_4b11b876276f49be8487487e2269b319",
       "IPY_MODEL_82b387a4e35a4dbca2b18bc68534e257",
       "IPY_MODEL_b441020e865f453aab7bd0af26e9e65f"
      ],
      "layout": "IPY_MODEL_49a5ac8ec817470fb38f45ee1f75e1d8"
     }
    },
    "b409d949b0c141f69083094935565f56": {
     "model_module": "@jupyter-widgets/controls",
     "model_module_version": "1.5.0",
     "model_name": "ProgressStyleModel",
     "state": {
      "_model_module": "@jupyter-widgets/controls",
      "_model_module_version": "1.5.0",
      "_model_name": "ProgressStyleModel",
      "_view_count": null,
      "_view_module": "@jupyter-widgets/base",
      "_view_module_version": "1.2.0",
      "_view_name": "StyleView",
      "bar_color": null,
      "description_width": ""
     }
    },
    "b441020e865f453aab7bd0af26e9e65f": {
     "model_module": "@jupyter-widgets/controls",
     "model_module_version": "1.5.0",
     "model_name": "HTMLModel",
     "state": {
      "_dom_classes": [],
      "_model_module": "@jupyter-widgets/controls",
      "_model_module_version": "1.5.0",
      "_model_name": "HTMLModel",
      "_view_count": null,
      "_view_module": "@jupyter-widgets/controls",
      "_view_module_version": "1.5.0",
      "_view_name": "HTMLView",
      "description": "",
      "description_tooltip": null,
      "layout": "IPY_MODEL_dc7b4f2792de45849aa6489caf802bbb",
      "placeholder": "​",
      "style": "IPY_MODEL_278a9f4d370a48d3a7b9b55ec97a4cd5",
      "value": " 0/0 [00:00&lt;?, ?it/s]"
     }
    },
    "be0b4fa9e12f40578b24bf3c5d598406": {
     "model_module": "@jupyter-widgets/base",
     "model_module_version": "1.2.0",
     "model_name": "LayoutModel",
     "state": {
      "_model_module": "@jupyter-widgets/base",
      "_model_module_version": "1.2.0",
      "_model_name": "LayoutModel",
      "_view_count": null,
      "_view_module": "@jupyter-widgets/base",
      "_view_module_version": "1.2.0",
      "_view_name": "LayoutView",
      "align_content": null,
      "align_items": null,
      "align_self": null,
      "border": null,
      "bottom": null,
      "display": null,
      "flex": null,
      "flex_flow": null,
      "grid_area": null,
      "grid_auto_columns": null,
      "grid_auto_flow": null,
      "grid_auto_rows": null,
      "grid_column": null,
      "grid_gap": null,
      "grid_row": null,
      "grid_template_areas": null,
      "grid_template_columns": null,
      "grid_template_rows": null,
      "height": null,
      "justify_content": null,
      "justify_items": null,
      "left": null,
      "margin": null,
      "max_height": null,
      "max_width": null,
      "min_height": null,
      "min_width": null,
      "object_fit": null,
      "object_position": null,
      "order": null,
      "overflow": null,
      "overflow_x": null,
      "overflow_y": null,
      "padding": null,
      "right": null,
      "top": null,
      "visibility": null,
      "width": null
     }
    },
    "bfccbd1c7ccb4979a2a212c7c4846554": {
     "model_module": "@jupyter-widgets/base",
     "model_module_version": "1.2.0",
     "model_name": "LayoutModel",
     "state": {
      "_model_module": "@jupyter-widgets/base",
      "_model_module_version": "1.2.0",
      "_model_name": "LayoutModel",
      "_view_count": null,
      "_view_module": "@jupyter-widgets/base",
      "_view_module_version": "1.2.0",
      "_view_name": "LayoutView",
      "align_content": null,
      "align_items": null,
      "align_self": null,
      "border": null,
      "bottom": null,
      "display": null,
      "flex": null,
      "flex_flow": null,
      "grid_area": null,
      "grid_auto_columns": null,
      "grid_auto_flow": null,
      "grid_auto_rows": null,
      "grid_column": null,
      "grid_gap": null,
      "grid_row": null,
      "grid_template_areas": null,
      "grid_template_columns": null,
      "grid_template_rows": null,
      "height": null,
      "justify_content": null,
      "justify_items": null,
      "left": null,
      "margin": null,
      "max_height": null,
      "max_width": null,
      "min_height": null,
      "min_width": null,
      "object_fit": null,
      "object_position": null,
      "order": null,
      "overflow": null,
      "overflow_x": null,
      "overflow_y": null,
      "padding": null,
      "right": null,
      "top": null,
      "visibility": null,
      "width": null
     }
    },
    "c6ff9cada73c40da9ad3b4cea4f7dc4d": {
     "model_module": "@jupyter-widgets/controls",
     "model_module_version": "1.5.0",
     "model_name": "DescriptionStyleModel",
     "state": {
      "_model_module": "@jupyter-widgets/controls",
      "_model_module_version": "1.5.0",
      "_model_name": "DescriptionStyleModel",
      "_view_count": null,
      "_view_module": "@jupyter-widgets/base",
      "_view_module_version": "1.2.0",
      "_view_name": "StyleView",
      "description_width": ""
     }
    },
    "c8611645a1d6440cb36a8bae3df97160": {
     "model_module": "@jupyter-widgets/controls",
     "model_module_version": "1.5.0",
     "model_name": "ProgressStyleModel",
     "state": {
      "_model_module": "@jupyter-widgets/controls",
      "_model_module_version": "1.5.0",
      "_model_name": "ProgressStyleModel",
      "_view_count": null,
      "_view_module": "@jupyter-widgets/base",
      "_view_module_version": "1.2.0",
      "_view_name": "StyleView",
      "bar_color": null,
      "description_width": ""
     }
    },
    "cb63bce8cd924c929d0386ae25df87c2": {
     "model_module": "@jupyter-widgets/controls",
     "model_module_version": "1.5.0",
     "model_name": "ProgressStyleModel",
     "state": {
      "_model_module": "@jupyter-widgets/controls",
      "_model_module_version": "1.5.0",
      "_model_name": "ProgressStyleModel",
      "_view_count": null,
      "_view_module": "@jupyter-widgets/base",
      "_view_module_version": "1.2.0",
      "_view_name": "StyleView",
      "bar_color": null,
      "description_width": ""
     }
    },
    "cfd29a36f5d541afb9d97d4988247132": {
     "model_module": "@jupyter-widgets/base",
     "model_module_version": "1.2.0",
     "model_name": "LayoutModel",
     "state": {
      "_model_module": "@jupyter-widgets/base",
      "_model_module_version": "1.2.0",
      "_model_name": "LayoutModel",
      "_view_count": null,
      "_view_module": "@jupyter-widgets/base",
      "_view_module_version": "1.2.0",
      "_view_name": "LayoutView",
      "align_content": null,
      "align_items": null,
      "align_self": null,
      "border": null,
      "bottom": null,
      "display": null,
      "flex": null,
      "flex_flow": null,
      "grid_area": null,
      "grid_auto_columns": null,
      "grid_auto_flow": null,
      "grid_auto_rows": null,
      "grid_column": null,
      "grid_gap": null,
      "grid_row": null,
      "grid_template_areas": null,
      "grid_template_columns": null,
      "grid_template_rows": null,
      "height": null,
      "justify_content": null,
      "justify_items": null,
      "left": null,
      "margin": null,
      "max_height": null,
      "max_width": null,
      "min_height": null,
      "min_width": null,
      "object_fit": null,
      "object_position": null,
      "order": null,
      "overflow": null,
      "overflow_x": null,
      "overflow_y": null,
      "padding": null,
      "right": null,
      "top": null,
      "visibility": null,
      "width": null
     }
    },
    "dc7b4f2792de45849aa6489caf802bbb": {
     "model_module": "@jupyter-widgets/base",
     "model_module_version": "1.2.0",
     "model_name": "LayoutModel",
     "state": {
      "_model_module": "@jupyter-widgets/base",
      "_model_module_version": "1.2.0",
      "_model_name": "LayoutModel",
      "_view_count": null,
      "_view_module": "@jupyter-widgets/base",
      "_view_module_version": "1.2.0",
      "_view_name": "LayoutView",
      "align_content": null,
      "align_items": null,
      "align_self": null,
      "border": null,
      "bottom": null,
      "display": null,
      "flex": null,
      "flex_flow": null,
      "grid_area": null,
      "grid_auto_columns": null,
      "grid_auto_flow": null,
      "grid_auto_rows": null,
      "grid_column": null,
      "grid_gap": null,
      "grid_row": null,
      "grid_template_areas": null,
      "grid_template_columns": null,
      "grid_template_rows": null,
      "height": null,
      "justify_content": null,
      "justify_items": null,
      "left": null,
      "margin": null,
      "max_height": null,
      "max_width": null,
      "min_height": null,
      "min_width": null,
      "object_fit": null,
      "object_position": null,
      "order": null,
      "overflow": null,
      "overflow_x": null,
      "overflow_y": null,
      "padding": null,
      "right": null,
      "top": null,
      "visibility": null,
      "width": null
     }
    },
    "df0a498b592244fcb1e2248b4129443d": {
     "model_module": "@jupyter-widgets/base",
     "model_module_version": "1.2.0",
     "model_name": "LayoutModel",
     "state": {
      "_model_module": "@jupyter-widgets/base",
      "_model_module_version": "1.2.0",
      "_model_name": "LayoutModel",
      "_view_count": null,
      "_view_module": "@jupyter-widgets/base",
      "_view_module_version": "1.2.0",
      "_view_name": "LayoutView",
      "align_content": null,
      "align_items": null,
      "align_self": null,
      "border": null,
      "bottom": null,
      "display": null,
      "flex": null,
      "flex_flow": null,
      "grid_area": null,
      "grid_auto_columns": null,
      "grid_auto_flow": null,
      "grid_auto_rows": null,
      "grid_column": null,
      "grid_gap": null,
      "grid_row": null,
      "grid_template_areas": null,
      "grid_template_columns": null,
      "grid_template_rows": null,
      "height": null,
      "justify_content": null,
      "justify_items": null,
      "left": null,
      "margin": null,
      "max_height": null,
      "max_width": null,
      "min_height": null,
      "min_width": null,
      "object_fit": null,
      "object_position": null,
      "order": null,
      "overflow": null,
      "overflow_x": null,
      "overflow_y": null,
      "padding": null,
      "right": null,
      "top": null,
      "visibility": null,
      "width": "20px"
     }
    },
    "e1a950bceb9c45ce9e97a624a9039e56": {
     "model_module": "@jupyter-widgets/controls",
     "model_module_version": "1.5.0",
     "model_name": "DescriptionStyleModel",
     "state": {
      "_model_module": "@jupyter-widgets/controls",
      "_model_module_version": "1.5.0",
      "_model_name": "DescriptionStyleModel",
      "_view_count": null,
      "_view_module": "@jupyter-widgets/base",
      "_view_module_version": "1.2.0",
      "_view_name": "StyleView",
      "description_width": ""
     }
    },
    "e933c69b68a94826a49a99d6596c4974": {
     "model_module": "@jupyter-widgets/controls",
     "model_module_version": "1.5.0",
     "model_name": "HTMLModel",
     "state": {
      "_dom_classes": [],
      "_model_module": "@jupyter-widgets/controls",
      "_model_module_version": "1.5.0",
      "_model_name": "HTMLModel",
      "_view_count": null,
      "_view_module": "@jupyter-widgets/controls",
      "_view_module_version": "1.5.0",
      "_view_name": "HTMLView",
      "description": "",
      "description_tooltip": null,
      "layout": "IPY_MODEL_0a11b3a773144de68630c1d591508979",
      "placeholder": "​",
      "style": "IPY_MODEL_f9c51d42544340fb8430d3aca7faf171",
      "value": "Finding Elimination Order: : "
     }
    },
    "ec442794f10f46ceb48cb4edd5c9d87b": {
     "model_module": "@jupyter-widgets/controls",
     "model_module_version": "1.5.0",
     "model_name": "HTMLModel",
     "state": {
      "_dom_classes": [],
      "_model_module": "@jupyter-widgets/controls",
      "_model_module_version": "1.5.0",
      "_model_name": "HTMLModel",
      "_view_count": null,
      "_view_module": "@jupyter-widgets/controls",
      "_view_module_version": "1.5.0",
      "_view_name": "HTMLView",
      "description": "",
      "description_tooltip": null,
      "layout": "IPY_MODEL_1977dccc31764c4281ede1bb3683bc3f",
      "placeholder": "​",
      "style": "IPY_MODEL_e1a950bceb9c45ce9e97a624a9039e56",
      "value": " 0/0 [00:00&lt;?, ?it/s]"
     }
    },
    "ef379f00b12d46b780ccea2e806ee4dc": {
     "model_module": "@jupyter-widgets/controls",
     "model_module_version": "1.5.0",
     "model_name": "DescriptionStyleModel",
     "state": {
      "_model_module": "@jupyter-widgets/controls",
      "_model_module_version": "1.5.0",
      "_model_name": "DescriptionStyleModel",
      "_view_count": null,
      "_view_module": "@jupyter-widgets/base",
      "_view_module_version": "1.2.0",
      "_view_name": "StyleView",
      "description_width": ""
     }
    },
    "f9c51d42544340fb8430d3aca7faf171": {
     "model_module": "@jupyter-widgets/controls",
     "model_module_version": "1.5.0",
     "model_name": "DescriptionStyleModel",
     "state": {
      "_model_module": "@jupyter-widgets/controls",
      "_model_module_version": "1.5.0",
      "_model_name": "DescriptionStyleModel",
      "_view_count": null,
      "_view_module": "@jupyter-widgets/base",
      "_view_module_version": "1.2.0",
      "_view_name": "StyleView",
      "description_width": ""
     }
    }
   }
  }
 },
 "nbformat": 4,
 "nbformat_minor": 4
}
