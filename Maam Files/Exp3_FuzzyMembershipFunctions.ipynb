{
 "cells": [
  {
   "cell_type": "code",
   "execution_count": 1,
   "id": "5dd44299",
   "metadata": {
    "colab": {
     "base_uri": "https://localhost:8080/",
     "height": 374
    },
    "executionInfo": {
     "elapsed": 13,
     "status": "error",
     "timestamp": 1657161687774,
     "user": {
      "displayName": "Dr. Nilesh Patil",
      "userId": "04750120265060307053"
     },
     "user_tz": -330
    },
    "id": "5dd44299",
    "outputId": "bf9958cc-4b8b-425d-e514-30e28b4e2461"
   },
   "outputs": [
    {
     "ename": "ModuleNotFoundError",
     "errorDetails": {
      "actions": [
       {
        "action": "open_url",
        "actionText": "Open Examples",
        "url": "/notebooks/snippets/importing_libraries.ipynb"
       }
      ]
     },
     "evalue": "ignored",
     "output_type": "error",
     "traceback": [
      "\u001b[0;31m---------------------------------------------------------------------------\u001b[0m",
      "\u001b[0;31mModuleNotFoundError\u001b[0m                       Traceback (most recent call last)",
      "\u001b[0;32m<ipython-input-1-c105eaac3b96>\u001b[0m in \u001b[0;36m<module>\u001b[0;34m()\u001b[0m\n\u001b[1;32m      1\u001b[0m \u001b[0;32mfrom\u001b[0m \u001b[0mnumpy\u001b[0m \u001b[0;32mimport\u001b[0m \u001b[0mlinspace\u001b[0m\u001b[0;34m\u001b[0m\u001b[0;34m\u001b[0m\u001b[0m\n\u001b[1;32m      2\u001b[0m \u001b[0;32mimport\u001b[0m \u001b[0mmatplotlib\u001b[0m\u001b[0;34m.\u001b[0m\u001b[0mpyplot\u001b[0m \u001b[0;32mas\u001b[0m \u001b[0mplt\u001b[0m\u001b[0;34m\u001b[0m\u001b[0;34m\u001b[0m\u001b[0m\n\u001b[0;32m----> 3\u001b[0;31m \u001b[0;32mfrom\u001b[0m \u001b[0mpyit2fls\u001b[0m \u001b[0;32mimport\u001b[0m \u001b[0mzero_mf\u001b[0m\u001b[0;34m,\u001b[0m \u001b[0msingleton_mf\u001b[0m\u001b[0;34m,\u001b[0m \u001b[0mconst_mf\u001b[0m\u001b[0;34m,\u001b[0m \u001b[0mtri_mf\u001b[0m\u001b[0;34m,\u001b[0m \u001b[0mltri_mf\u001b[0m\u001b[0;34m,\u001b[0m \u001b[0mrtri_mf\u001b[0m\u001b[0;34m,\u001b[0m     \u001b[0mtrapezoid_mf\u001b[0m\u001b[0;34m,\u001b[0m \u001b[0mgaussian_mf\u001b[0m\u001b[0;34m\u001b[0m\u001b[0;34m\u001b[0m\u001b[0m\n\u001b[0m\u001b[1;32m      4\u001b[0m \u001b[0;34m\u001b[0m\u001b[0m\n\u001b[1;32m      5\u001b[0m \u001b[0mdomain\u001b[0m \u001b[0;34m=\u001b[0m \u001b[0mlinspace\u001b[0m\u001b[0;34m(\u001b[0m\u001b[0;36m0.\u001b[0m\u001b[0;34m,\u001b[0m \u001b[0;36m1.\u001b[0m\u001b[0;34m,\u001b[0m \u001b[0;36m1001\u001b[0m\u001b[0;34m)\u001b[0m\u001b[0;34m\u001b[0m\u001b[0;34m\u001b[0m\u001b[0m\n",
      "\u001b[0;31mModuleNotFoundError\u001b[0m: No module named 'pyit2fls'",
      "",
      "\u001b[0;31m---------------------------------------------------------------------------\u001b[0;32m\nNOTE: If your import is failing due to a missing package, you can\nmanually install dependencies using either !pip or !apt.\n\nTo view examples of installing some common dependencies, click the\n\"Open Examples\" button below.\n\u001b[0;31m---------------------------------------------------------------------------\u001b[0m\n"
     ]
    }
   ],
   "source": [
    "from numpy import linspace\n",
    "import matplotlib.pyplot as plt\n",
    "from pyit2fls import zero_mf, singleton_mf, const_mf, tri_mf, ltri_mf, rtri_mf, \\\n",
    "    trapezoid_mf, gaussian_mf\n",
    "\n",
    "domain = linspace(0., 1., 1001)\n",
    "\n",
    "zero = zero_mf(domain)\n",
    "singleton = singleton_mf(domain, [0.5, 1.])\n",
    "const = const_mf(domain, [1.])\n",
    "tri = tri_mf(domain, [0., 0.5, 1., 1.])\n",
    "ltri = ltri_mf(domain, [0.5, 1., 1.])\n",
    "rtri = rtri_mf(domain, [0.5, 0., 1.])\n",
    "trapezoid = trapezoid_mf(domain, [0., 0.25, 0.75, 1., 1.])\n",
    "gaussian = gaussian_mf(domain, [0.5, 0.1, 1.])\n",
    "\n",
    "plt.figure()\n",
    "plt.plot(domain, zero, label=\"All zero MF\")\n",
    "plt.plot(domain, const, label=\"Const MF\")\n",
    "plt.grid(True)\n",
    "plt.legend()\n",
    "plt.xlabel(\"Domain\")\n",
    "plt.ylabel(\"Membership function\")\n",
    "plt.show()\n",
    "\n",
    "plt.figure()\n",
    "plt.plot(domain, singleton, label=\"Singleton MF\")\n",
    "plt.grid(True)\n",
    "plt.legend()\n",
    "plt.xlabel(\"Domain\")\n",
    "plt.ylabel(\"Membership function\")\n",
    "plt.show()\n",
    "\n",
    "plt.figure()\n",
    "plt.plot(domain, tri, label=\"Triangular MF\")\n",
    "plt.plot(domain, ltri, label=\"Left triangular MF\")\n",
    "plt.plot(domain, rtri, label=\"Right triangular MF\")\n",
    "plt.grid(True)\n",
    "plt.legend()\n",
    "plt.xlabel(\"Domain\")\n",
    "plt.ylabel(\"Membership function\")\n",
    "plt.show()\n",
    "\n",
    "plt.figure()\n",
    "plt.plot(domain, trapezoid, label=\"Trapezoid MF\")\n",
    "plt.grid(True)\n",
    "plt.legend()\n",
    "plt.xlabel(\"Domain\")\n",
    "plt.ylabel(\"Membership function\")\n",
    "plt.show()\n",
    "\n",
    "plt.figure()\n",
    "plt.plot(domain, gaussian, label=\"Gaussian MF\")\n",
    "plt.grid(True)\n",
    "plt.legend()\n",
    "plt.xlabel(\"Domain\")\n",
    "plt.ylabel(\"Membership function\")\n",
    "plt.show()"
   ]
  },
  {
   "cell_type": "code",
   "execution_count": null,
   "id": "2873340c",
   "metadata": {
    "id": "2873340c"
   },
   "outputs": [],
   "source": []
  },
  {
   "cell_type": "code",
   "execution_count": null,
   "id": "4f4bf1e1",
   "metadata": {
    "id": "4f4bf1e1"
   },
   "outputs": [],
   "source": []
  }
 ],
 "metadata": {
  "colab": {
   "name": "FuzzyMembershipFunctions.ipynb",
   "provenance": []
  },
  "kernelspec": {
   "display_name": "Python 3 (ipykernel)",
   "language": "python",
   "name": "python3"
  },
  "language_info": {
   "codemirror_mode": {
    "name": "ipython",
    "version": 3
   },
   "file_extension": ".py",
   "mimetype": "text/x-python",
   "name": "python",
   "nbconvert_exporter": "python",
   "pygments_lexer": "ipython3",
   "version": "3.11.4"
  }
 },
 "nbformat": 4,
 "nbformat_minor": 5
}
